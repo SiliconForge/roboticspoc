{
 "cells": [
  {
   "cell_type": "markdown",
   "metadata": {},
   "source": [
    "# Cartesian robot coordinate path planner\n",
    "### This code will output G code for a cnc cartesian robot to run"
   ]
  },
  {
   "cell_type": "code",
   "execution_count": 1,
   "metadata": {},
   "outputs": [],
   "source": [
    "import warnings\n",
    "warnings.filterwarnings('ignore')"
   ]
  },
  {
   "cell_type": "code",
   "execution_count": 2,
   "metadata": {},
   "outputs": [],
   "source": [
    "import matplotlib.pyplot as plt\n",
    "import numpy as np"
   ]
  },
  {
   "cell_type": "markdown",
   "metadata": {},
   "source": [
    "For a cartesian 2D robot, the real space coordinates are given by:\n",
    "\n",
    "\\begin{equation*}\n",
    "\\mathbf{M}\\mathbf{S}\\vec{s} = \\vec{r}\n",
    "\\label{stepToReal} \\tag{1}\n",
    "\\end{equation*}\n",
    "\n",
    "Where $\\mathbf{M}$ is the transformation matrix from the machine space to the real space, $\\mathbf{S}$ is the transformation matrix from step space into machine space, $\\vec{s}$ is the step space coordinates and $\\vec{r}$ is the real space coordinates."
   ]
  },
  {
   "cell_type": "markdown",
   "metadata": {},
   "source": [
    "For this 2D example with a cartesian robot based on stepper motors, let us assume the steppers have a $1.8^{o}$ degree step, and that the stepper is coupled to the axis, being X or Y, by a pulley and belt mechanism, that has $12mm$ diameter.\n",
    "For such a system, the step to machine space transformation matrix is:\n",
    "\n",
    "\\begin{equation*}\n",
    "\\begin{bmatrix}\n",
    "1.8 & 0\\\\\n",
    "0 & 1.8\n",
    "\\end{bmatrix}\n",
    "\\label{stepToMachineMatrix} \\tag{2}\n",
    "\\end{equation*}\n",
    "\n",
    "So you get the equation bellow for the transformation from step to machine space:\n",
    "\n",
    "\\begin{equation*}\n",
    "\\begin{bmatrix} 1.8 & 0 \\\\ 0 & 1.8 \\end{bmatrix} X \\begin{bmatrix} StepsMotorX \\\\ StepsMotorY \\end{bmatrix} = \n",
    "\\begin{bmatrix} StepperAngleX \\\\ StepperAngleY \\end{bmatrix}\n",
    "\\label{stepToMachineEquation} \\tag{3}\n",
    "\\end{equation*}"
   ]
  },
  {
   "cell_type": "markdown",
   "metadata": {},
   "source": [
    "Now we have to solve the transformation from the belt and pulley system to the real space. This system will follow the following equation for each axis:\n",
    "\n",
    "\\begin{equation*}\n",
    "<x|y> = \\frac{Angle * \\pi * diameter}{360}\n",
    "\\label{beltPulleyEquation} \\tag{4}\n",
    "\\end{equation*}\n",
    "\n",
    "So the transformation matrix $\\mathbf{M}$ becomes:\n",
    "\n",
    "\\begin{equation*}\n",
    "\\begin{bmatrix}\n",
    "0.1047 & 0\\\\\n",
    "0 & 0.1047\n",
    "\\end{bmatrix}\n",
    "\\label{machineToRealMatrix} \\tag{5}\n",
    "\\end{equation*}"
   ]
  },
  {
   "cell_type": "markdown",
   "metadata": {},
   "source": [
    "The equation for the whole system thus becomes:\n",
    "\n",
    "\\begin{equation*}\n",
    "\\begin{bmatrix} 0.1047 & 0 \\\\ 0 & 0.1047 \\end{bmatrix} X \\begin{bmatrix} 1.8 & 0 \\\\ 0 & 1.8 \\end{bmatrix} X \\begin{bmatrix} StepsMotorX \\\\ StepsMotorY \\end{bmatrix} = \n",
    "\\begin{bmatrix} x \\\\ y \\end{bmatrix}\n",
    "\\label{wholeSystem} \\tag{6}\n",
    "\\end{equation*}"
   ]
  },
  {
   "cell_type": "markdown",
   "metadata": {},
   "source": [
    "The two matrices $M$ and $S$ can be combined for simplicity, running the code bellow:"
   ]
  },
  {
   "cell_type": "code",
   "execution_count": 3,
   "metadata": {
    "scrolled": true
   },
   "outputs": [
    {
     "data": {
      "text/plain": [
       "matrix([[0.18846, 0.     ],\n",
       "        [0.     , 0.18846]])"
      ]
     },
     "execution_count": 3,
     "metadata": {},
     "output_type": "execute_result"
    }
   ],
   "source": [
    "M = np.matrix([[0.1047, 0     ],\n",
    "              [0     , 0.1047]])\n",
    "S = np.matrix([[1.8, 0  ],\n",
    "              [0  , 1.8]])\n",
    "MS = M*S\n",
    "MS"
   ]
  },
  {
   "cell_type": "markdown",
   "metadata": {},
   "source": [
    "So the system becomes:\n",
    "\\begin{equation*}\n",
    "\\begin{bmatrix} 0.188 & 0 \\\\ 0 & 0.188 \\end{bmatrix} X \\begin{bmatrix} StepsMotorX \\\\ StepsMotorY \\end{bmatrix} = \n",
    "\\begin{bmatrix} x \\\\ y \\end{bmatrix}\n",
    "\\label{wholeSystemCompressed} \\tag{7}\n",
    "\\end{equation*}\n"
   ]
  },
  {
   "cell_type": "markdown",
   "metadata": {},
   "source": [
    "Now, for us to create a control system, we need to understand that what we can control here is limited to one step at a time, and we control steps only.\n",
    "\n",
    "We can keep track of the step count per motor, that will begin referenced at zero steps and we assume that this is where the origin of x and y are(which is not the case for more complex robots, but is fine for the simple cartesian case), negative steps will translate do negative coordinates and we will assume the robot does not lose any steps during the operation(infinite torque or whatever) for simplicity.\n",
    "\n",
    "With all this in mind, we now need a way to translate real space coordinates back into step space coordinates, so we can control the robot by simply stepping in the direction of the difference of coordinates between the points given. The problems of complex trajectories and acceleration will be left for later.\n",
    "\n",
    "The way to get from real space into the step space is to invert the matrix MS, by running the code bellow:"
   ]
  },
  {
   "cell_type": "code",
   "execution_count": 4,
   "metadata": {
    "scrolled": true
   },
   "outputs": [
    {
     "data": {
      "text/plain": [
       "matrix([[5.30616576, 0.        ],\n",
       "        [0.        , 5.30616576]])"
      ]
     },
     "execution_count": 4,
     "metadata": {},
     "output_type": "execute_result"
    }
   ],
   "source": [
    "MS.I"
   ]
  },
  {
   "cell_type": "markdown",
   "metadata": {},
   "source": [
    "So now we have \n",
    "\\begin{equation*}\n",
    "\\begin{bmatrix} 5.31 & 0 \\\\ 0 & 5.31 \\end{bmatrix} X \\begin{bmatrix} x \\\\ y \\end{bmatrix} = \n",
    "\\begin{bmatrix} StepsMotorX \\\\ StepsMotorY \\end{bmatrix}\n",
    "\\label{wholeSystemInverse} \\tag{8}\n",
    "\\end{equation*}"
   ]
  },
  {
   "cell_type": "markdown",
   "metadata": {},
   "source": [
    "Now we have what we need to start planning some trajectories.\n",
    "Let us start trying to move from $A=\\begin{bmatrix} 0 \\\\ 0\\end{bmatrix}$ to $B=\\begin{bmatrix} 1 \\\\ 1\\end{bmatrix}$"
   ]
  },
  {
   "cell_type": "code",
   "execution_count": 26,
   "metadata": {
    "scrolled": true
   },
   "outputs": [
    {
     "data": {
      "text/plain": [
       "matrix([[0],\n",
       "        [0]])"
      ]
     },
     "execution_count": 26,
     "metadata": {},
     "output_type": "execute_result"
    }
   ],
   "source": [
    "pointA = np.matrix([0,0]).T\n",
    "pointA"
   ]
  },
  {
   "cell_type": "code",
   "execution_count": 50,
   "metadata": {},
   "outputs": [
    {
     "data": {
      "text/plain": [
       "matrix([[0.],\n",
       "        [0.]])"
      ]
     },
     "execution_count": 50,
     "metadata": {},
     "output_type": "execute_result"
    }
   ],
   "source": [
    "stepPointA = MS.I*pointA #This is the step space representation for the point A\n",
    "stepPointA"
   ]
  },
  {
   "cell_type": "code",
   "execution_count": 13,
   "metadata": {
    "scrolled": true
   },
   "outputs": [
    {
     "data": {
      "text/plain": [
       "matrix([[1],\n",
       "        [1]])"
      ]
     },
     "execution_count": 13,
     "metadata": {},
     "output_type": "execute_result"
    }
   ],
   "source": [
    "pointB = np.matrix([1,1]).T\n",
    "pointB"
   ]
  },
  {
   "cell_type": "code",
   "execution_count": 48,
   "metadata": {
    "scrolled": true
   },
   "outputs": [
    {
     "data": {
      "text/plain": [
       "matrix([[5.30616576],\n",
       "        [5.30616576]])"
      ]
     },
     "execution_count": 48,
     "metadata": {},
     "output_type": "execute_result"
    }
   ],
   "source": [
    "stepPointB = MS.I*pointB #This is the step space representation for the point B\n",
    "stepPointB"
   ]
  },
  {
   "cell_type": "markdown",
   "metadata": {},
   "source": [
    "Here we get to an important point: The system is discrete, therefore some points cannot be reached with arbitrary precision, there will always be an error between 0 and half a step, positive or negative, because only whole steps can be taken.\n",
    "I know steppers can half-step, whatever-step or micro-step, it changes nothing here, however you divide the step, the system is still discrete.\n",
    "\n",
    "$\\textit{\"But what if i take the limit when the step is an infinitessimal?\"}$\n",
    "\n",
    "Well good luck trying to find such a stepper motor for sale Mr. Newton.\n",
    "\n",
    "Anyway... We need now to make a decision on how to approximate the point and update the position of the robot to a \"reachable\" position."
   ]
  },
  {
   "cell_type": "code",
   "execution_count": 65,
   "metadata": {
    "scrolled": true
   },
   "outputs": [
    {
     "data": {
      "text/plain": [
       "matrix([[5.],\n",
       "        [5.]])"
      ]
     },
     "execution_count": 65,
     "metadata": {},
     "output_type": "execute_result"
    }
   ],
   "source": [
    "reachableB = np.round(stepPointB)\n",
    "reachableB"
   ]
  },
  {
   "cell_type": "markdown",
   "metadata": {},
   "source": [
    "Now we know we can reach this point in the $\\textbf{STEP SPACE}$, we can calculate where it lands on $\\textbf{REAL SPACE}$"
   ]
  },
  {
   "cell_type": "code",
   "execution_count": 56,
   "metadata": {
    "scrolled": true
   },
   "outputs": [
    {
     "data": {
      "text/plain": [
       "matrix([[0.9423],\n",
       "        [0.9423]])"
      ]
     },
     "execution_count": 56,
     "metadata": {},
     "output_type": "execute_result"
    }
   ],
   "source": [
    "realReachableB = MS*reachableB\n",
    "realReachableB"
   ]
  },
  {
   "cell_type": "code",
   "execution_count": 74,
   "metadata": {},
   "outputs": [
    {
     "data": {
      "text/plain": [
       "Text(0.5, 1.0, 'Step Space')"
      ]
     },
     "execution_count": 74,
     "metadata": {},
     "output_type": "execute_result"
    },
    {
     "data": {
      "image/png": "[encoded data removed]",
      "text/plain": [
       "<Figure size 864x432 with 2 Axes>"
      ]
     },
     "metadata": {
      "needs_background": "light"
     },
     "output_type": "display_data"
    }
   ],
   "source": [
    "fig, ax = plt.subplots(1,2,figsize=(12,6))\n",
    "ax[0].grid()\n",
    "ax[1].grid()\n",
    "ax[0].scatter(*np.array(pointA))\n",
    "ax[0].scatter(*np.array(pointB))\n",
    "ax[0].scatter(*np.array(realReachableB))\n",
    "ax[0].set_title(\"Real Space\")\n",
    "ax[1].scatter(*np.array(stepPointA))\n",
    "ax[1].scatter(*np.array(stepPointB))\n",
    "ax[1].scatter(*np.array(reachableB))\n",
    "ax[1].set_title(\"Step Space\")"
   ]
  },
  {
   "cell_type": "markdown",
   "metadata": {},
   "source": [
    "The good news is, this error is absolute,it does not grow with larger values of x and y, given we keep the same motor and mechanisms, so for larger trajectories the relative error gets smaller.\n",
    "\n",
    "Now we got to the point where we have to think about the microcontroller that is going to do the actual stepping on the direction we established. Using a discrete microcontroller means we have a single thread running on the program, so we have to multiplex the output control. This means we control one motor at a time, one step at a time. \n",
    "\n",
    "Ok, so how can we get the smoothest curve possible from this system?\n",
    "\n",
    "This is a real question, at the time of writing this line i have no idea how. But when you don't know what to do, you do what you know."
   ]
  },
  {
   "cell_type": "markdown",
   "metadata": {},
   "source": [
    "A good way to start is by assembling a vector with how many steps have to be taken in each dimension"
   ]
  },
  {
   "cell_type": "code",
   "execution_count": 67,
   "metadata": {
    "scrolled": true
   },
   "outputs": [
    {
     "data": {
      "text/plain": [
       "matrix([[5.],\n",
       "        [5.]])"
      ]
     },
     "execution_count": 67,
     "metadata": {},
     "output_type": "execute_result"
    }
   ],
   "source": [
    "steppingVector = reachableB - stepPointA\n",
    "steppingVector"
   ]
  },
  {
   "cell_type": "markdown",
   "metadata": {},
   "source": [
    "Great, now that we know far to travel in each direction, we can start taking steps in that direction. Simply take a bunch of (1,1) steps and we are done right?\n",
    "# NO!\n",
    "And yes...\n",
    "\n",
    "Naive first, always!\n",
    "\n",
    "So lets plot this trajectory from A to B"
   ]
  },
  {
   "cell_type": "code",
   "execution_count": 76,
   "metadata": {},
   "outputs": [
    {
     "data": {
      "text/plain": [
       "array([[0.     ],\n",
       "       [0.18846],\n",
       "       [0.18846],\n",
       "       [0.37692],\n",
       "       [0.37692],\n",
       "       [0.56538],\n",
       "       [0.56538],\n",
       "       [0.75384],\n",
       "       [0.75384],\n",
       "       [0.9423 ],\n",
       "       [0.9423 ]])"
      ]
     },
     "execution_count": 76,
     "metadata": {},
     "output_type": "execute_result"
    }
   ],
   "source": [
    "pointsRealTrajectory = []\n",
    "for index in range(len(stepPointsX)):\n",
    "    tmpPointVector = np.matrix([stepPointsX[index],stepPointsY[index]]).T\n",
    "    pointsRealTrajectory.append(MS*tmpPointVector)\n",
    "np.array(pointsRealTrajectory)[:,0]"
   ]
  },
  {
   "cell_type": "code",
   "execution_count": 78,
   "metadata": {},
   "outputs": [
    {
     "data": {
      "text/plain": [
       "Text(0.5, 1.0, 'Step Space')"
      ]
     },
     "execution_count": 78,
     "metadata": {},
     "output_type": "execute_result"
    },
    {
     "data": {
      "image/png": "[encoded data removed]",
      "text/plain": [
       "<Figure size 864x432 with 2 Axes>"
      ]
     },
     "metadata": {
      "needs_background": "light"
     },
     "output_type": "display_data"
    }
   ],
   "source": [
    "stepPointsX = [0,1,1,2,2,3,3,4,4,5,5]\n",
    "stepPointsY = [0,0,1,1,2,2,3,3,4,4,5]\n",
    "\n",
    "pointsRealTrajectory = []\n",
    "for index in range(len(stepPointsX)):\n",
    "    tmpPointVector = np.matrix([stepPointsX[index],stepPointsY[index]]).T\n",
    "    pointsRealTrajectory.append(MS*tmpPointVector)\n",
    "pointsRealTrajectory\n",
    "\n",
    "fig, ax = plt.subplots(1,2,figsize=(12,6))\n",
    "ax[0].grid()\n",
    "ax[1].grid()\n",
    "ax[0].scatter(*np.array(pointA))\n",
    "ax[0].scatter(*np.array(pointB))\n",
    "ax[0].plot(np.array(pointsRealTrajectory)[:,0],np.array(pointsRealTrajectory)[:,1])\n",
    "ax[0].scatter(*np.array(realReachableB))\n",
    "ax[0].plot([0,1],[0,1])\n",
    "ax[0].set_title(\"Real Space\")\n",
    "ax[1].scatter(*np.array(stepPointA))\n",
    "ax[1].scatter(*np.array(stepPointB))\n",
    "ax[1].plot(stepPointsX,stepPointsY)\n",
    "ax[1].scatter(*np.array(reachableB))\n",
    "ax[1].set_title(\"Step Space\")"
   ]
  },
  {
   "cell_type": "markdown",
   "metadata": {},
   "source": [
    "# To be continued..."
   ]
  },
  {
   "cell_type": "code",
   "execution_count": null,
   "metadata": {},
   "outputs": [],
   "source": []
  }
 ],
 "metadata": {
  "kernelspec": {
   "display_name": "Python 3",
   "language": "python",
   "name": "python3"
  },
  "language_info": {
   "codemirror_mode": {
    "name": "ipython",
    "version": 3
   },
   "file_extension": ".py",
   "mimetype": "text/x-python",
   "name": "python",
   "nbconvert_exporter": "python",
   "pygments_lexer": "ipython3",
   "version": "3.7.6"
  }
 },
 "nbformat": 4,
 "nbformat_minor": 4
}
