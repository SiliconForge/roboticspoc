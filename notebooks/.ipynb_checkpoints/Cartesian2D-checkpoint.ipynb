{
 "cells": [
  {
   "cell_type": "markdown",
   "metadata": {},
   "source": [
    "# Cartesian robot coordinate path planner\n",
    "### This code will output G code for a cnc cartesian robot to run"
   ]
  },
  {
   "cell_type": "code",
   "execution_count": 1,
   "metadata": {},
   "outputs": [],
   "source": [
    "import warnings\n",
    "warnings.filterwarnings('ignore')"
   ]
  },
  {
   "cell_type": "code",
   "execution_count": 2,
   "metadata": {},
   "outputs": [],
   "source": [
    "import matplotlib.pyplot as plt\n",
    "import numpy as np"
   ]
  },
  {
   "cell_type": "markdown",
   "metadata": {},
   "source": [
    "For a cartesian 2D robot, the real space coordinates are given by:\n",
    "\n",
    "\\begin{equation*}\n",
    "\\mathbf{M}\\mathbf{S}\\vec{s} = \\vec{r}\n",
    "\\label{stepToReal} \\tag{1}\n",
    "\\end{equation*}\n",
    "\n",
    "Where $\\mathbf{M}$ is the transformation matrix from the machine space to the real space, $\\mathbf{S}$ is the transformation matrix from step space into machine space, $\\vec{s}$ is the step space coordinates and $\\vec{r}$ is the real space coordinates."
   ]
  },
  {
   "cell_type": "markdown",
   "metadata": {},
   "source": [
    "For this 2D example with a cartesian robot based on stepper motors, let us assume the steppers have a $1.8^{o}$ degree step, and that the stepper is coupled to the axis, being X or Y, by a pulley and belt mechanism, that has $12mm$ diameter.\n",
    "For such a system, the step to machine space transformation matrix is:\n",
    "\n",
    "\\begin{equation*}\n",
    "\\begin{bmatrix}\n",
    "1.8 & 0\\\\\n",
    "0 & 1.8\n",
    "\\end{bmatrix}\n",
    "\\label{stepToMachineMatrix} \\tag{2}\n",
    "\\end{equation*}\n",
    "\n",
    "So you get the equation bellow for the transformation from step to machine space:\n",
    "\n",
    "\\begin{equation*}\n",
    "\\begin{bmatrix} 1.8 & 0 \\\\ 0 & 1.8 \\end{bmatrix} . \\begin{bmatrix} StepsMotorX \\\\ StepsMotorY \\end{bmatrix} = \n",
    "\\begin{bmatrix} StepperAngleX \\\\ StepperAngleY \\end{bmatrix}\n",
    "\\label{stepToMachineEquation} \\tag{3}\n",
    "\\end{equation*}"
   ]
  },
  {
   "cell_type": "markdown",
   "metadata": {},
   "source": [
    "Now we have to solve the transformation from the belt and pulley system to the real space. This system will follow the following equation for each axis:\n",
    "\n",
    "\\begin{equation*}\n",
    "<x|y> = \\frac{Angle * \\pi * diameter}{360}\n",
    "\\label{beltPulleyEquation} \\tag{4}\n",
    "\\end{equation*}\n",
    "\n",
    "So the transformation matrix $\\mathbf{M}$ becomes:\n",
    "\n",
    "\\begin{equation*}\n",
    "\\begin{bmatrix}\n",
    "0.1047 & 0\\\\\n",
    "0 & 0.1047\n",
    "\\end{bmatrix}\n",
    "\\label{machineToRealMatrix} \\tag{5}\n",
    "\\end{equation*}"
   ]
  },
  {
   "cell_type": "markdown",
   "metadata": {},
   "source": [
    "The equation for the whole system thus becomes:\n",
    "\n",
    "\\begin{equation*}\n",
    "\\begin{bmatrix} 0.1047 & 0 \\\\ 0 & 0.1047 \\end{bmatrix} . \\begin{bmatrix} 1.8 & 0 \\\\ 0 & 1.8 \\end{bmatrix} . \\begin{bmatrix} StepsMotorX \\\\ StepsMotorY \\end{bmatrix} = \n",
    "\\begin{bmatrix} x \\\\ y \\end{bmatrix}\n",
    "\\label{wholeSystem} \\tag{6}\n",
    "\\end{equation*}"
   ]
  },
  {
   "cell_type": "markdown",
   "metadata": {},
   "source": [
    "The two matrices $M$ and $S$ can be combined for simplicity, running the code bellow:"
   ]
  },
  {
   "cell_type": "code",
   "execution_count": 3,
   "metadata": {
    "scrolled": true
   },
   "outputs": [
    {
     "data": {
      "text/plain": [
       "matrix([[0.18846, 0.     ],\n",
       "        [0.     , 0.18846]])"
      ]
     },
     "execution_count": 3,
     "metadata": {},
     "output_type": "execute_result"
    }
   ],
   "source": [
    "M = np.matrix([[0.1047, 0     ],\n",
    "              [0     , 0.1047]])\n",
    "S = np.matrix([[1.8, 0  ],\n",
    "              [0  , 1.8]])\n",
    "MS = M*S\n",
    "MS"
   ]
  },
  {
   "cell_type": "markdown",
   "metadata": {},
   "source": [
    "So the system becomes:\n",
    "\\begin{equation*}\n",
    "\\begin{bmatrix} 0.188 & 0 \\\\ 0 & 0.188 \\end{bmatrix} . \\begin{bmatrix} StepsMotorX \\\\ StepsMotorY \\end{bmatrix} = \n",
    "\\begin{bmatrix} x \\\\ y \\end{bmatrix}\n",
    "\\label{wholeSystemCompressed} \\tag{7}\n",
    "\\end{equation*}\n"
   ]
  },
  {
   "cell_type": "markdown",
   "metadata": {},
   "source": [
    "Now, for us to create a control system, we need to understand that what we can control here is limited to one step at a time, and we control steps only.\n",
    "\n",
    "We can keep track of the step count per motor, that will begin referenced at zero steps and we assume that this is where the origin of x and y are(which is not the case for more complex robots, but is fine for the simple cartesian case), negative steps will translate do negative coordinates and we will assume the robot does not lose any steps during the operation(infinite torque or whatever) for simplicity.\n",
    "\n",
    "With all this in mind, we now need a way to translate real space coordinates back into step space coordinates, so we can control the robot by simply stepping in the direction of the difference of coordinates between the points given. The problems of complex trajectories and acceleration will be left for later.\n",
    "\n",
    "The way to get from real space into the step space is to invert the matrix MS, by running the code bellow:"
   ]
  },
  {
   "cell_type": "code",
   "execution_count": 4,
   "metadata": {
    "scrolled": true
   },
   "outputs": [
    {
     "data": {
      "text/plain": [
       "matrix([[5.30616576, 0.        ],\n",
       "        [0.        , 5.30616576]])"
      ]
     },
     "execution_count": 4,
     "metadata": {},
     "output_type": "execute_result"
    }
   ],
   "source": [
    "MS.I"
   ]
  },
  {
   "cell_type": "markdown",
   "metadata": {},
   "source": [
    "So now we have \n",
    "\\begin{equation*}\n",
    "\\begin{bmatrix} 5.31 & 0 \\\\ 0 & 5.31 \\end{bmatrix} . \\begin{bmatrix} x \\\\ y \\end{bmatrix} = \n",
    "\\begin{bmatrix} StepsMotorX \\\\ StepsMotorY \\end{bmatrix}\n",
    "\\label{wholeSystemInverse} \\tag{8}\n",
    "\\end{equation*}"
   ]
  },
  {
   "cell_type": "markdown",
   "metadata": {},
   "source": [
    "Now we have what we need to start planning some trajectories.\n",
    "Let us start trying to move from $A=\\begin{bmatrix} 0 \\\\ 0\\end{bmatrix}$ to $B=\\begin{bmatrix} 1 \\\\ 1\\end{bmatrix}$"
   ]
  },
  {
   "cell_type": "code",
   "execution_count": 5,
   "metadata": {
    "scrolled": true
   },
   "outputs": [
    {
     "data": {
      "text/plain": [
       "matrix([[0],\n",
       "        [0]])"
      ]
     },
     "execution_count": 5,
     "metadata": {},
     "output_type": "execute_result"
    }
   ],
   "source": [
    "pointA = np.matrix([0,0]).T\n",
    "pointA"
   ]
  },
  {
   "cell_type": "code",
   "execution_count": 6,
   "metadata": {},
   "outputs": [
    {
     "data": {
      "text/plain": [
       "matrix([[0.],\n",
       "        [0.]])"
      ]
     },
     "execution_count": 6,
     "metadata": {},
     "output_type": "execute_result"
    }
   ],
   "source": [
    "stepPointA = MS.I*pointA #This is the step space representation for the point A\n",
    "stepPointA"
   ]
  },
  {
   "cell_type": "code",
   "execution_count": 7,
   "metadata": {
    "scrolled": true
   },
   "outputs": [
    {
     "data": {
      "text/plain": [
       "matrix([[1],\n",
       "        [1]])"
      ]
     },
     "execution_count": 7,
     "metadata": {},
     "output_type": "execute_result"
    }
   ],
   "source": [
    "pointB = np.matrix([1,1]).T\n",
    "pointB"
   ]
  },
  {
   "cell_type": "code",
   "execution_count": 8,
   "metadata": {
    "scrolled": true
   },
   "outputs": [
    {
     "data": {
      "text/plain": [
       "matrix([[5.30616576],\n",
       "        [5.30616576]])"
      ]
     },
     "execution_count": 8,
     "metadata": {},
     "output_type": "execute_result"
    }
   ],
   "source": [
    "stepPointB = MS.I*pointB #This is the step space representation for the point B\n",
    "stepPointB"
   ]
  },
  {
   "cell_type": "markdown",
   "metadata": {},
   "source": [
    "Here we get to an important point: The system is discrete, therefore some points cannot be reached with arbitrary precision, there will always be an error between 0 and half a step, positive or negative, because only whole steps can be taken.\n",
    "I know steppers can half-step, whatever-step or micro-step, it changes nothing here, however you divide the step, the system is still discrete.\n",
    "\n",
    "$\\textit{\"But what if i take the limit when the step is an infinitessimal?\"}$\n",
    "\n",
    "Well good luck trying to find such a stepper motor for sale Mr. Newton.\n",
    "\n",
    "Anyway... We need now to make a decision on how to approximate the point and update the position of the robot to a \"reachable\" position."
   ]
  },
  {
   "cell_type": "code",
   "execution_count": 9,
   "metadata": {
    "scrolled": true
   },
   "outputs": [
    {
     "data": {
      "text/plain": [
       "matrix([[5.],\n",
       "        [5.]])"
      ]
     },
     "execution_count": 9,
     "metadata": {},
     "output_type": "execute_result"
    }
   ],
   "source": [
    "reachableB = np.round(stepPointB)\n",
    "reachableB"
   ]
  },
  {
   "cell_type": "markdown",
   "metadata": {},
   "source": [
    "Now we know we can reach this point in the $\\textbf{STEP SPACE}$, we can calculate where it lands on $\\textbf{REAL SPACE}$"
   ]
  },
  {
   "cell_type": "code",
   "execution_count": 10,
   "metadata": {
    "scrolled": true
   },
   "outputs": [
    {
     "data": {
      "text/plain": [
       "matrix([[0.9423],\n",
       "        [0.9423]])"
      ]
     },
     "execution_count": 10,
     "metadata": {},
     "output_type": "execute_result"
    }
   ],
   "source": [
    "realReachableB = MS*reachableB\n",
    "realReachableB"
   ]
  },
  {
   "cell_type": "code",
   "execution_count": 11,
   "metadata": {},
   "outputs": [
    {
     "data": {
      "text/plain": [
       "Text(0.5, 1.0, 'Step Space')"
      ]
     },
     "execution_count": 11,
     "metadata": {},
     "output_type": "execute_result"
    },
    {
     "data": {
      "image/png": "[encoded data removed]",
      "text/plain": [
       "<Figure size 864x432 with 2 Axes>"
      ]
     },
     "metadata": {
      "needs_background": "light"
     },
     "output_type": "display_data"
    }
   ],
   "source": [
    "fig, ax = plt.subplots(1,2,figsize=(12,6))\n",
    "ax[0].grid()\n",
    "ax[1].grid()\n",
    "ax[0].scatter(*np.array(pointA))\n",
    "ax[0].scatter(*np.array(pointB))\n",
    "ax[0].scatter(*np.array(realReachableB))\n",
    "ax[0].set_title(\"Real Space\")\n",
    "ax[1].scatter(*np.array(stepPointA))\n",
    "ax[1].scatter(*np.array(stepPointB))\n",
    "ax[1].scatter(*np.array(reachableB))\n",
    "ax[1].set_title(\"Step Space\")"
   ]
  },
  {
   "cell_type": "markdown",
   "metadata": {},
   "source": [
    "The good news is, this error is absolute,it does not grow with larger values of x and y, given we keep the same motor and mechanisms, so for larger trajectories the relative error gets smaller.\n",
    "\n",
    "Now we got to the point where we have to think about the microcontroller that is going to do the actual stepping on the direction we established. Using a discrete microcontroller means we have a single thread running on the program, so we have to multiplex the output control. This means we control one motor at a time, one step at a time. \n",
    "\n",
    "Ok, so how can we get the smoothest curve possible from this system?\n",
    "\n",
    "This is a real question, at the time of writing this line i have no idea how. But when you don't know what to do, you do what you know."
   ]
  },
  {
   "cell_type": "markdown",
   "metadata": {},
   "source": [
    "A good way to start is by assembling a vector with how many steps have to be taken in each dimension"
   ]
  },
  {
   "cell_type": "code",
   "execution_count": 12,
   "metadata": {
    "scrolled": true
   },
   "outputs": [
    {
     "data": {
      "text/plain": [
       "matrix([[5.],\n",
       "        [5.]])"
      ]
     },
     "execution_count": 12,
     "metadata": {},
     "output_type": "execute_result"
    }
   ],
   "source": [
    "steppingVector = reachableB - stepPointA\n",
    "steppingVector"
   ]
  },
  {
   "cell_type": "markdown",
   "metadata": {},
   "source": [
    "Great, now that we know far to travel in each direction, we can start taking steps in that direction. Simply take a bunch of (1,1) steps and we are done right?\n",
    "# NO!\n",
    "And yes...\n",
    "\n",
    "Naive first, always!\n",
    "\n",
    "So lets plot this trajectory from A to B"
   ]
  },
  {
   "cell_type": "code",
   "execution_count": 13,
   "metadata": {},
   "outputs": [
    {
     "data": {
      "text/plain": [
       "Text(0.5, 1.0, 'Step Space')"
      ]
     },
     "execution_count": 13,
     "metadata": {},
     "output_type": "execute_result"
    },
    {
     "data": {
      "image/png": "[encoded data removed]",
      "text/plain": [
       "<Figure size 864x432 with 2 Axes>"
      ]
     },
     "metadata": {
      "needs_background": "light"
     },
     "output_type": "display_data"
    }
   ],
   "source": [
    "stepPointsX = [0,1,1,2,2,3,3,4,4,5,5]\n",
    "stepPointsY = [0,0,1,1,2,2,3,3,4,4,5]\n",
    "pointsRealTrajectory = []\n",
    "for index in range(len(stepPointsX)):\n",
    "    tmpPointVector = np.matrix([stepPointsX[index],stepPointsY[index]]).T\n",
    "    pointsRealTrajectory.append(MS*tmpPointVector)\n",
    "pointsRealTrajectory\n",
    "\n",
    "fig, ax = plt.subplots(1,2,figsize=(12,6))\n",
    "ax[0].grid()\n",
    "ax[1].grid()\n",
    "ax[0].scatter(*np.array(pointA))\n",
    "ax[0].scatter(*np.array(pointB))\n",
    "ax[0].plot(np.array(pointsRealTrajectory)[:,0],np.array(pointsRealTrajectory)[:,1])\n",
    "ax[0].scatter(*np.array(realReachableB))\n",
    "ax[0].plot([0,1],[0,1])\n",
    "ax[0].set_title(\"Real Space\")\n",
    "ax[1].scatter(*np.array(stepPointA))\n",
    "ax[1].scatter(*np.array(stepPointB))\n",
    "ax[1].plot(stepPointsX,stepPointsY)\n",
    "ax[1].scatter(*np.array(reachableB))\n",
    "ax[1].set_title(\"Step Space\")"
   ]
  },
  {
   "cell_type": "markdown",
   "metadata": {},
   "source": [
    "# To be continued...\n",
    "###### right now !"
   ]
  },
  {
   "cell_type": "markdown",
   "metadata": {},
   "source": [
    "Now we have done it by hand, let us automate this process.\n",
    "First, divide the stepping vector into smaller steps, we do not want to jump all the x and y values at once, interpolating as close as possible to the line is what we actually need.\n",
    "The way of doing it is by calculating the direction of the line that connects A to B. This is done with the formula:\n",
    "\n",
    "\\begin{equation*}\n",
    "\\begin{bmatrix} x' \\\\ y' \\end{bmatrix} = \\begin{bmatrix} \\frac{1}{|\\vec{AB}|} & 0 \\\\ 0 & \\frac{1}{|\\vec{AB}|} \\end{bmatrix} . \\begin{bmatrix} x \\\\ y \\end{bmatrix}\n",
    "\\label{vectorModule} \\tag{9}\n",
    "\\end{equation*}\n",
    "\n",
    "Looking at this matrix, you can notice that trying to move from a point to itself will result in a singularity. That has to be treated in the code when implementing into a system to avoid exceptions locking your application."
   ]
  },
  {
   "cell_type": "markdown",
   "metadata": {},
   "source": [
    "In code that looks like this:"
   ]
  },
  {
   "cell_type": "code",
   "execution_count": 14,
   "metadata": {},
   "outputs": [
    {
     "data": {
      "text/plain": [
       "matrix([[1],\n",
       "        [1]])"
      ]
     },
     "execution_count": 14,
     "metadata": {},
     "output_type": "execute_result"
    }
   ],
   "source": [
    "deltaPoints = pointB - pointA\n",
    "deltaPoints"
   ]
  },
  {
   "cell_type": "code",
   "execution_count": 15,
   "metadata": {},
   "outputs": [
    {
     "data": {
      "text/plain": [
       "1.4142135623730951"
      ]
     },
     "execution_count": 15,
     "metadata": {},
     "output_type": "execute_result"
    }
   ],
   "source": [
    "moduleDeltaPoints = np.sqrt(deltaPoints[0,0]**2 + deltaPoints[1,0]**2)\n",
    "moduleDeltaPoints"
   ]
  },
  {
   "cell_type": "code",
   "execution_count": 16,
   "metadata": {},
   "outputs": [
    {
     "data": {
      "text/plain": [
       "matrix([[0.70710678],\n",
       "        [0.70710678]])"
      ]
     },
     "execution_count": 16,
     "metadata": {},
     "output_type": "execute_result"
    }
   ],
   "source": [
    "directionVector = deltaPoints[:,0]/moduleDeltaPoints\n",
    "directionVector"
   ]
  },
  {
   "cell_type": "markdown",
   "metadata": {},
   "source": [
    "It is important to notice that only if the space of steps and real space are a scaled version of one another that this vector will point in the exact same direction in step and real space, this will not be the case for spaces that are transformed in other ways than simple scaling. The transformation matrix will make it point in the right direction, or as i have done bellow, the transformation matrix is actually applied to the points and the vector is being calculated directly in the step space.\n"
   ]
  },
  {
   "cell_type": "code",
   "execution_count": 17,
   "metadata": {},
   "outputs": [],
   "source": [
    "def moveAB(realXYSource,realXYDestination,stepToRealMatrix):\n",
    "    stepXYSource = stepToRealMatrix.I*np.matrix(realXYSource).T\n",
    "    stepXYDestination = stepToRealMatrix.I*np.matrix(realXYDestination).T\n",
    "    deltaStep = stepXYDestination - stepXYSource\n",
    "    currentStepPoint = stepXYSource\n",
    "    visitedStepPoints = []\n",
    "    visitedStepPoints.append(currentStepPoint.copy())\n",
    "    visitedRealPoints = []\n",
    "    visitedRealPoints.append(MS*currentStepPoint.copy())\n",
    "    deltaModule = np.sqrt(deltaStep[0,0]**2 + deltaStep[1,0]**2)\n",
    "    currentModule = 0\n",
    "    directionVector = deltaStep[:,0]/deltaModule\n",
    "    while currentModule<deltaModule:\n",
    "        currentModule += 1\n",
    "        currentStepPoint[0,0] = np.round(visitedStepPoints[0][0]+directionVector[0,0]*currentModule)\n",
    "        visitedStepPoints.append(currentStepPoint.copy())\n",
    "        visitedRealPoints.append(stepToRealMatrix*currentStepPoint.copy())\n",
    "        currentStepPoint[1,0] = np.round(visitedStepPoints[0][1]+directionVector[1,0]*currentModule)\n",
    "        visitedStepPoints.append(currentStepPoint.copy())\n",
    "        visitedRealPoints.append(stepToRealMatrix*currentStepPoint.copy())\n",
    "    finalPoint = MS*currentStepPoint\n",
    "    visitedStepPoints = np.array(visitedStepPoints).T\n",
    "    visitedRealPoints = np.array(visitedRealPoints).T\n",
    "    return finalPoint, visitedStepPoints, visitedRealPoints"
   ]
  },
  {
   "cell_type": "code",
   "execution_count": 18,
   "metadata": {
    "scrolled": false
   },
   "outputs": [
    {
     "data": {
      "text/plain": [
       "(matrix([[100.07226],\n",
       "         [100.07226]]),\n",
       " array([[[  0.,   1.,   1., ..., 530., 531., 531.],\n",
       "         [  0.,   0.,   1., ..., 530., 530., 531.]]]),\n",
       " array([[[  0.     ,   0.18846,   0.18846, ...,  99.8838 , 100.07226,\n",
       "          100.07226],\n",
       "         [  0.     ,   0.     ,   0.18846, ...,  99.8838 ,  99.8838 ,\n",
       "          100.07226]]]))"
      ]
     },
     "execution_count": 18,
     "metadata": {},
     "output_type": "execute_result"
    }
   ],
   "source": [
    "lineTest=((0,0),(100,100))\n",
    "moveAB(*lineTest,MS)"
   ]
  },
  {
   "cell_type": "code",
   "execution_count": 19,
   "metadata": {},
   "outputs": [
    {
     "data": {
      "image/png": "[encoded data removed]",
      "text/plain": [
       "<Figure size 864x432 with 2 Axes>"
      ]
     },
     "metadata": {
      "needs_background": "light"
     },
     "output_type": "display_data"
    }
   ],
   "source": [
    "lineTestArray = [((0,0),(-2,-2)),\\\n",
    "                 ((0,0),(2,2)),\\\n",
    "                 ((0,0),(2,-2)),\\\n",
    "                 ((0,0),(-2,2)),\\\n",
    "                 ((0,0),(-3,-2)),\\\n",
    "                 ((0,0),(3,2)),\\\n",
    "                 ((0,0),(3,-2)),\\\n",
    "                 ((0,0),(-3,2)),\\\n",
    "                 ((1.5,0),(0,1.5)),\\\n",
    "                 ((0,1.5),(-1.5,0)),\\\n",
    "                 ((-1.5,0),(0,-1.5)),\\\n",
    "                 ((0,-1.5),(1.5,0))]\n",
    "fig, ax = plt.subplots(1,2,figsize=(12,6))\n",
    "ax[0].grid()\n",
    "ax[1].grid()\n",
    "ax[0].axis('equal')\n",
    "ax[1].axis('equal')\n",
    "ax[0].set_title(\"Real Space\")\n",
    "ax[1].set_title(\"Step Space\")\n",
    "for line in lineTestArray:\n",
    "    movements = moveAB(*line,MS)   \n",
    "    ax[0].scatter(*np.array(line[0]))\n",
    "    ax[0].scatter(*np.array(line[1]))\n",
    "    ax[0].plot(movements[2][0,0],movements[2][0,1])\n",
    "    ax[0].plot(np.array(line)[:,0],np.array(line)[:,1])\n",
    "    ax[1].scatter(*np.array(MS.I*np.matrix(line[0]).T))\n",
    "    ax[1].scatter(*np.array(MS.I*np.matrix(line[1]).T))\n",
    "    ax[1].plot(movements[1][0,0],movements[1][0,1])\n",
    "    ax[1].plot(MS.I*np.matrix(line)[:,0],MS.I*np.matrix(line)[:,1])"
   ]
  },
  {
   "cell_type": "markdown",
   "metadata": {},
   "source": [
    "With all these concepts in mind, we can now start thinking about how to interpolate a trajectory that is not a line, by dividing it into line segments and then stepping through those line segments. So let us make a function first that is going to take two points, a source point and a destination point, both on the real space, and translates them into a stepping vector and a remainder in the stepping space."
   ]
  },
  {
   "cell_type": "markdown",
   "metadata": {},
   "source": [
    "More to come..."
   ]
  }
 ],
 "metadata": {
  "kernelspec": {
   "display_name": "Python 3",
   "language": "python",
   "name": "python3"
  },
  "language_info": {
   "codemirror_mode": {
    "name": "ipython",
    "version": 3
   },
   "file_extension": ".py",
   "mimetype": "text/x-python",
   "name": "python",
   "nbconvert_exporter": "python",
   "pygments_lexer": "ipython3",
   "version": "3.7.6"
  }
 },
 "nbformat": 4,
 "nbformat_minor": 4
}
